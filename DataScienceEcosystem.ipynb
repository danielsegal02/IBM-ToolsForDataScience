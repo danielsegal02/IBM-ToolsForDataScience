{
 "cells": [
  {
   "cell_type": "markdown",
   "id": "621aa70c-9e71-4923-bbb3-3760f02389c6",
   "metadata": {},
   "source": [
    "# Data Science Tools and Ecosystem"
   ]
  },
  {
   "cell_type": "markdown",
   "id": "cb8e98ae-de38-4409-92ca-4015323fe630",
   "metadata": {},
   "source": [
    "In this notebook, Data Science Tools and Ecosystem are summarized.\n",
    "<br>Objectives:\n",
    "- List of Popular Languages for Data Science\n",
    "- List of Libraries for Data Science\n",
    "- Examples of Arithmetic Expressions in Python"
   ]
  },
  {
   "cell_type": "markdown",
   "id": "f26026ea-7e5a-4ab5-8513-3f26b7f89593",
   "metadata": {},
   "source": [
    "Some of the popular languages that Data Scientists use are:\n",
    "1. Python\n",
    "2. R\n",
    "3. SQL"
   ]
  },
  {
   "cell_type": "markdown",
   "id": "c1254d21-28ad-4111-aed8-08442bcaba60",
   "metadata": {},
   "source": [
    "Some of the commonly used libraries used by Data Scientists include:\n",
    "1. Numpy\n",
    "2. Pandas\n",
    "3. Matplotlib"
   ]
  },
  {
   "cell_type": "markdown",
   "id": "27fc610f-c75f-4ba5-85a6-b39e8d27d942",
   "metadata": {},
   "source": [
    "|Data Science Tools |\n",
    "|:--------:|\n",
    "|  Jupyter Notebooks   |\n",
    "|  TensorFlow   |\n",
    "|  Hadoop   |"
   ]
  },
  {
   "cell_type": "markdown",
   "id": "d85ddf78-d638-44f5-83f4-15dde60eddc4",
   "metadata": {},
   "source": [
    "### Below are a few examples of evaluating arithmetic expressions in Python"
   ]
  },
  {
   "cell_type": "code",
   "execution_count": 2,
   "id": "00f786f0-cd20-4939-b265-068a77188d40",
   "metadata": {
    "tags": []
   },
   "outputs": [
    {
     "name": "stdout",
     "output_type": "stream",
     "text": [
      "17\n"
     ]
    }
   ],
   "source": [
    "#This a simple arithmetic expression to mutiply then add integers\n",
    "num = (3*4)+5\n",
    "print(num)"
   ]
  },
  {
   "cell_type": "code",
   "execution_count": 3,
   "id": "31829355-7a7d-4607-810a-4f30f8b32c3d",
   "metadata": {
    "tags": []
   },
   "outputs": [
    {
     "name": "stdout",
     "output_type": "stream",
     "text": [
      "3.3333333333333335\n"
     ]
    }
   ],
   "source": [
    "#This will convert 200 minutes to hours by diving by 60\n",
    "hours = 200/60\n",
    "print(hours)"
   ]
  },
  {
   "cell_type": "markdown",
   "id": "27308696-b865-4988-9097-ee1fffcf865e",
   "metadata": {},
   "source": [
    "## Author\n",
    "Daniel Segal"
   ]
  },
  {
   "cell_type": "code",
   "execution_count": null,
   "id": "e374921d-2621-452b-9782-c499cdfa34de",
   "metadata": {},
   "outputs": [],
   "source": []
  }
 ],
 "metadata": {
  "kernelspec": {
   "display_name": "Python",
   "language": "python",
   "name": "conda-env-python-py"
  },
  "language_info": {
   "codemirror_mode": {
    "name": "ipython",
    "version": 3
   },
   "file_extension": ".py",
   "mimetype": "text/x-python",
   "name": "python",
   "nbconvert_exporter": "python",
   "pygments_lexer": "ipython3",
   "version": "3.7.12"
  }
 },
 "nbformat": 4,
 "nbformat_minor": 5
}
